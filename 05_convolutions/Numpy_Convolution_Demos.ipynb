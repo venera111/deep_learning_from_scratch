{
 "cells": [
  {
   "cell_type": "markdown",
   "metadata": {},
   "source": [
    "# Convolution demos"
   ]
  },
  {
   "cell_type": "markdown",
   "metadata": {},
   "source": [
    "In this notebook, we use the batch, multi-channel convolution operation implemented in Numpy (that you can find [here](../lincoln/lincoln/conv.py)) to train a small convolutional neural network to more than 90% accuracy on MNIST."
   ]
  },
  {
   "cell_type": "code",
   "execution_count": 2,
   "metadata": {},
   "outputs": [],
   "source": [
    "import numpy as np\n",
    "\n",
    "import lincoln\n",
    "from lincoln.layers import Dense\n",
    "from lincoln.losses import SoftmaxCrossEntropy, MeanSquaredError\n",
    "from lincoln.optimizers import Optimizer, SGD, SGDMomentum\n",
    "from lincoln.activations import Sigmoid, Tanh, Linear, ReLU\n",
    "from lincoln.network import NeuralNetwork\n",
    "from lincoln.train import Trainer\n",
    "from lincoln.utils import mnist\n",
    "from lincoln.layers import Conv2D\n",
    "\n",
    "X_train, y_train, X_test, y_test = mnist.load()"
   ]
  },
  {
   "cell_type": "code",
   "execution_count": 3,
   "metadata": {},
   "outputs": [],
   "source": [
    "%load_ext autoreload\n",
    "%autoreload 2"
   ]
  },
  {
   "cell_type": "code",
   "execution_count": 4,
   "metadata": {},
   "outputs": [],
   "source": [
    "X_train, X_test = X_train - np.mean(X_train), X_test - np.mean(X_train)\n",
    "X_train, X_test = X_train / np.std(X_train), X_test / np.std(X_train)"
   ]
  },
  {
   "cell_type": "code",
   "execution_count": 5,
   "metadata": {},
   "outputs": [],
   "source": [
    "X_train_conv, X_test_conv = X_train.reshape(-1, 1, 28, 28), X_test.reshape(-1, 1, 28, 28)"
   ]
  },
  {
   "cell_type": "code",
   "execution_count": 6,
   "metadata": {},
   "outputs": [],
   "source": [
    "num_labels = len(y_train)\n",
    "train_labels = np.zeros((num_labels, 10))\n",
    "for i in range(num_labels):\n",
    "    train_labels[i][y_train[i]] = 1\n",
    "\n",
    "num_labels = len(y_test)\n",
    "test_labels = np.zeros((num_labels, 10))\n",
    "for i in range(num_labels):\n",
    "    test_labels[i][y_test[i]] = 1"
   ]
  },
  {
   "cell_type": "code",
   "execution_count": 7,
   "metadata": {},
   "outputs": [],
   "source": [
    "def calc_accuracy_model(model, test_set):\n",
    "    return print(f'''The model validation accuracy is: \n",
    "    {np.equal(np.argmax(model.forward(test_set, inference=True), axis=1), y_test).sum() * 100.0 / test_set.shape[0]:.2f}%''')"
   ]
  },
  {
   "cell_type": "markdown",
   "metadata": {},
   "source": [
    "# CNN from scratch"
   ]
  },
  {
   "cell_type": "code",
   "execution_count": 8,
   "metadata": {},
   "outputs": [
    {
     "name": "stdout",
     "output_type": "stream",
     "text": [
      "batch 0 loss 31.19150189374241\n",
      "batch 10 loss 14.15039049051508\n",
      "batch 20 loss 8.50702290841553\n",
      "batch 30 loss 9.816084643843547\n",
      "batch 40 loss 2.706927623585055\n",
      "batch 50 loss 5.039129714982868\n",
      "batch 60 loss 3.841327243027677\n",
      "batch 70 loss 8.473295270935887\n",
      "batch 80 loss 5.3768208616542505\n",
      "batch 90 loss 2.385500381403628\n",
      "batch 100 loss 3.96715855092429\n",
      "Validation accuracy after 100 batches is 86.92%\n",
      "batch 110 loss 7.50512968695921\n",
      "batch 120 loss 5.135040796606616\n",
      "batch 130 loss 4.835428727391912\n",
      "batch 140 loss 2.577940594312076\n",
      "batch 150 loss 7.574323365019637\n",
      "batch 160 loss 4.835428708353721\n",
      "batch 170 loss 3.9553066775829397\n",
      "batch 180 loss 4.7754929721293875\n",
      "batch 190 loss 5.357032646192996\n",
      "batch 200 loss 6.216987260156865\n",
      "Validation accuracy after 200 batches is 84.69%\n",
      "batch 210 loss 7.885259760964928\n",
      "batch 220 loss 3.9969738052274693\n",
      "batch 230 loss 4.539571057796949\n",
      "batch 240 loss 2.7645016930626927\n",
      "batch 250 loss 4.835428708353721\n",
      "batch 260 loss 5.52859829499268\n",
      "batch 270 loss 7.579600753924271\n",
      "batch 280 loss 6.758882380012964\n",
      "batch 290 loss 2.816485910904548\n",
      "batch 300 loss 2.747488469754857\n",
      "Validation accuracy after 300 batches is 89.94%\n",
      "batch 310 loss 4.43172770090957\n",
      "batch 320 loss 4.403894950721086\n",
      "batch 330 loss 1.3815510666724917\n",
      "batch 340 loss 2.0723277787063625\n",
      "batch 350 loss 4.67826205154405\n",
      "batch 360 loss 6.882980902491313\n",
      "batch 370 loss 7.450881016308261\n",
      "batch 380 loss 3.141355052095986\n",
      "batch 390 loss 2.018710438314083\n",
      "batch 400 loss 4.738835975463\n",
      "Validation accuracy after 400 batches is 89.45%\n",
      "batch 410 loss 1.3815910054787295\n",
      "batch 420 loss 2.3477666550207212\n",
      "batch 430 loss 2.7675769641947308\n",
      "batch 440 loss 5.24321542237674\n",
      "batch 450 loss 7.018245834788834\n",
      "batch 460 loss 2.763102190139021\n",
      "batch 470 loss 4.472328656179489\n",
      "batch 480 loss 3.3200959778321435\n",
      "batch 490 loss 4.678597209326867\n",
      "batch 500 loss 4.699179631710121\n",
      "Validation accuracy after 500 batches is 90.79%\n",
      "batch 510 loss 4.8221462487900615\n",
      "batch 520 loss 2.5781014383241514\n",
      "batch 530 loss 3.9141781587988733\n",
      "batch 540 loss 4.4509384668994105\n",
      "batch 550 loss 0.6907755383362456\n",
      "batch 560 loss 2.8453512052983942\n",
      "batch 570 loss 2.0723416894423496\n",
      "batch 580 loss 2.909842701081692\n",
      "batch 590 loss 3.6548063206290067\n",
      "batch 600 loss 2.7553942634225903\n",
      "Validation accuracy after 600 batches is 90.33%\n",
      "batch 610 loss 5.443017074082718\n",
      "batch 620 loss 2.0723353269766496\n",
      "batch 630 loss 5.385099456680292\n",
      "batch 640 loss 3.933000612897\n",
      "batch 650 loss 4.274132863647024\n",
      "batch 660 loss 5.020870964682684\n",
      "batch 670 loss 4.144654612499288\n",
      "batch 680 loss 4.57830483702871\n",
      "batch 690 loss 1.3822361571700128\n",
      "batch 700 loss 1.7223862877885745\n",
      "Validation accuracy after 700 batches is 86.48%\n",
      "batch 710 loss 3.23700404778669\n",
      "batch 720 loss 1.5501393066231202\n",
      "batch 730 loss 5.966675869713165\n",
      "batch 740 loss 2.4811036602864367\n",
      "batch 750 loss 2.049848233264284\n",
      "batch 760 loss 0.6907755384302419\n",
      "batch 770 loss 4.835532050404184\n",
      "batch 780 loss 2.171481101657882\n",
      "batch 790 loss 5.793976581750914\n",
      "batch 800 loss 1.3817738339938208\n",
      "Validation accuracy after 800 batches is 91.58%\n",
      "batch 810 loss 3.430528396962731\n",
      "batch 820 loss 2.072326696518456\n",
      "batch 830 loss 3.5662168818949143\n",
      "batch 840 loss 2.253862806597513\n",
      "batch 850 loss 3.5364326592847948\n",
      "batch 860 loss 0.11722729066404809\n",
      "batch 870 loss 4.144984253026174\n",
      "batch 880 loss 2.9618722171050753\n",
      "batch 890 loss 3.2769650684660965\n",
      "batch 900 loss 4.493546491245228\n",
      "Validation accuracy after 900 batches is 89.70%\n",
      "batch 910 loss 4.850985042759872\n",
      "batch 920 loss 3.4538776516812297\n",
      "batch 930 loss 2.7816146184796753\n",
      "batch 940 loss 3.3618490320854137\n",
      "batch 950 loss 2.480224847948134\n",
      "batch 960 loss 1.381551174409447\n",
      "batch 970 loss 2.0723265950087377\n",
      "batch 980 loss 3.972780710377045\n",
      "batch 990 loss 6.401193257262969\n",
      "Validation loss after 1 epochs is 3.292\n"
     ]
    }
   ],
   "source": [
    "model = NeuralNetwork(\n",
    "    layers=[Conv2D(out_channels=16,\n",
    "                   param_size=5,\n",
    "                   dropout=0.8,\n",
    "                   weight_init=\"glorot\",\n",
    "                   flatten=True,\n",
    "                  activation=Tanh()),\n",
    "            Dense(neurons=10, \n",
    "                  activation=Linear())],\n",
    "            loss = SoftmaxCrossEntropy(), \n",
    "seed=20190402)\n",
    "\n",
    "trainer = Trainer(model, SGDMomentum(lr = 0.1, momentum=0.9))\n",
    "trainer.fit(X_train_conv, train_labels, X_test_conv, test_labels,\n",
    "            epochs = 1,\n",
    "            eval_every = 1,\n",
    "            seed=20190402,\n",
    "            batch_size=60,\n",
    "            conv_testing=True);"
   ]
  },
  {
   "cell_type": "code",
   "execution_count": 9,
   "metadata": {},
   "outputs": [
    {
     "name": "stdout",
     "output_type": "stream",
     "text": [
      "The model validation accuracy is: \n",
      "    91.25%\n"
     ]
    }
   ],
   "source": [
    "calc_accuracy_model(model, X_test_conv)"
   ]
  },
  {
   "cell_type": "code",
   "execution_count": null,
   "metadata": {},
   "outputs": [],
   "source": []
  }
 ],
 "metadata": {
  "kernelspec": {
   "display_name": "Python 3",
   "language": "python",
   "name": "python3"
  },
  "language_info": {
   "codemirror_mode": {
    "name": "ipython",
    "version": 3
   },
   "file_extension": ".py",
   "mimetype": "text/x-python",
   "name": "python",
   "nbconvert_exporter": "python",
   "pygments_lexer": "ipython3",
   "version": "3.9.7"
  }
 },
 "nbformat": 4,
 "nbformat_minor": 2
}
